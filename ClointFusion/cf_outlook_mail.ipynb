import ClointFusion as cf 
from pathlib import Path

username = None
password = None
to_address = None
subject = None
body_email = None
want_to_attach_files = None
still_files = None
attachments = None
more_files = None
_file = None

# Describe this function...
def do_something():
  global username, password, to_address, subject, body_email, want_to_attach_files, still_files, attachments, more_files, _file
  username = cf.gui_get_any_input_from_user(msgForUser='Username/Login', password=False, multi_line=False, mandatory_field=True)
  password = cf.gui_get_any_input_from_user(msgForUser='Email Password', password=True, multi_line=False, mandatory_field=True)
  to_address = cf.gui_get_any_input_from_user(msgForUser='To Email Address', password=False, multi_line=False, mandatory_field=True)
  to_address = str(','.join(to_address.split(','))) + ','
  subject = cf.gui_get_any_input_from_user(msgForUser='Email Subject', password=False, multi_line=False, mandatory_field=True)
  body_email = cf.gui_get_any_input_from_user(msgForUser='Email Body', password=False, multi_line=True, mandatory_field=True)
  want_to_attach_files = cf.gui_get_consent_from_user(msgForUser='Want to attach files?')
  if want_to_attach_files == 'Yes':
    still_files = True
  attachments = []
  while still_files:
    attachments.append(str(Path((cf.gui_get_any_file_from_user(msgForUser='File to be attached', Extension_Without_Dot='*')))))
    more_files = cf.gui_get_consent_from_user(msgForUser='Attach more files?')
    if more_files == 'Yes':
      still_files = True
    else:
      still_files = False


do_something()
cf.browser_activate(url='https://outlook.live.com/', dummy_browser=True, profile='Default', incognito=False, files_download_path='', clear_previous_instances=False)
cf.browser_mouse_click_h(User_Visible_Text_Element='Sign in', element='', double_click=False, right_click=False)
cf.browser_write_h(Value=username, User_Visible_Text_Element='Email, phone, or Skype')
cf.browser_hit_enter_h()
cf.browser_write_h(Value=password, User_Visible_Text_Element='Password')
cf.browser_hit_enter_h()
cf.pause_program(seconds=2)
cf.browser_hit_enter_h()
cf.browser_mouse_click_h(User_Visible_Text_Element='New message', element='', double_click=False, right_click=False)
cf.pause_program(seconds=3)
cf.browser_write_h(Value=to_address, User_Visible_Text_Element='To')
cf.browser_write_h(Value=subject, User_Visible_Text_Element='Add a subject')
cf.browser_key_press_h(key_1='tab', key_2='')
cf.browser_write_h(Value=body_email, User_Visible_Text_Element='')
for _file in attachments:
  cf.browser_mouse_click_h(User_Visible_Text_Element='Attach', element='', double_click=False, right_click=False)
  cf.browser_mouse_click_h(User_Visible_Text_Element='Browse this computer', element='', double_click=False, right_click=False)
  cf.pause_program(seconds=2)
  cf.key_write_enter(text_to_write=_file, write_to_window='', delay_after_typing=1, key='e')
  cf.pause_program(seconds=5)
cf.browser_mouse_click_h(User_Visible_Text_Element='Send', element='', double_click=False, right_click=False)
cf.browser_quit_h()
cf.message_flash(msg='Mail Sent Successfully. Thank You for using ClointFusion.', delay=5)
