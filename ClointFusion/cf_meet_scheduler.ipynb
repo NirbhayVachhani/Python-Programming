import ClointFusion as cf 


date = cf.gui_get_any_input_from_user(msgForUser='MM:DD:YYYY', password=False, multi_line=False, mandatory_field=True)
time = cf.gui_get_any_input_from_user(msgForUser='Time starts :- 00:00 am/pm', password=False, multi_line=False, mandatory_field=True)
time_to = cf.gui_get_any_input_from_user(msgForUser='Time Ends :- 00:00 am/pm', password=False, multi_line=False, mandatory_field=True)
dec = cf.gui_get_any_input_from_user(msgForUser=' Add description for meeting ', password=False, multi_line=False, mandatory_field=True)


cf.browser_activate(url='https://meet.google.com', dummy_browser=False, profile='Default', incognito=False, files_download_path='', clear_previous_instances=True)
meet = cf.browser_locate_element_h(selector='//*[@id="yDmH0d"]/c-wiz/div/div[2]/div/div[1]/div[3]/div/div[1]/div[1]/div/button/div[1]', get_text=False, multiple_elements=False)
cf.browser_mouse_click_h(User_Visible_Text_Element=meet, element='', double_click=False, right_click=False)
cf.browser_mouse_click_h(User_Visible_Text_Element='Schedule in Google', element='', double_click=False, right_click=False)

# cf.key_write_enter(text_to_write='Meeting 1', write_to_window='', delay_after_typing=1, key='e')
cf.pause_program(4)
# title_element = cf.browser_locate_element_h(selector='//*[@id="xTiIn"]')
# cf.browser_mouse_click_h(element=title_element)
cf.browser_write_h(Value='Meeting')
cf.browser_key_press_h(key_1='tab', key_2='')
cf.browser_key_press_h(key_1='tab', key_2='')
cf.pause_program(0.9)
cf.browser_write_h(Value=date)
cf.browser_key_press_h(key_1='tab', key_2='')
cf.pause_program(0.9)
cf.browser_write_h(Value=time)
cf.browser_key_press_h(key_1='tab', key_2='')
cf.pause_program(0.9)
cf.browser_write_h(Value=time_to)
cf.pause_program(0.9)
cf.browser_write_h(Value=dec, User_Visible_Text_Element='Add description')
cf.pause_program(1.5)
cf.browser_mouse_click_h(User_Visible_Text_Element='Save', element='', double_click=False, right_click=False)
cf.message_flash(msg='Meeting is Scheduled...!', delay=5)





